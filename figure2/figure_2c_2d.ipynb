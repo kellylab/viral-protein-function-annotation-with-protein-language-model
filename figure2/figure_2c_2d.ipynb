{
 "cells": [
  {
   "cell_type": "code",
   "execution_count": null,
   "id": "e25532ef",
   "metadata": {},
   "outputs": [],
   "source": [
    "# import the necessary packages\n",
    "from sklearn.preprocessing import LabelBinarizer\n",
    "from sklearn.metrics import classification_report\n",
    "from tensorflow.keras.models import Sequential\n",
    "from tensorflow.keras.layers import Dense, Dropout\n",
    "from tensorflow.keras.optimizers import SGD, Adam\n",
    "from tensorflow.keras import backend as K\n",
    "import seaborn as sns\n",
    "import matplotlib.pyplot as plt\n",
    "import numpy as np\n",
    "import pandas as pd\n",
    "import pickle\n",
    "import random\n",
    "import os\n",
    "from tqdm import tqdm"
   ]
  },
  {
   "cell_type": "code",
   "execution_count": null,
   "id": "3a7dfb2b",
   "metadata": {},
   "outputs": [],
   "source": [
    "from sklearn.model_selection import StratifiedKFold, RepeatedKFold\n",
    "from typing import List, Dict\n",
    "from scipy import interp\n",
    "from itertools import cycle\n",
    "from sklearn.metrics import roc_curve, auc, precision_recall_curve, average_precision_score"
   ]
  },
  {
   "cell_type": "code",
   "execution_count": null,
   "id": "0b7a0108",
   "metadata": {},
   "outputs": [],
   "source": [
    "colors = ['red', 'blue', 'green', 'pink', 'gray', 'brown', 'purple', 'darkorange', 'cyan']"
   ]
  },
  {
   "cell_type": "code",
   "execution_count": null,
   "id": "6aeff258",
   "metadata": {},
   "outputs": [],
   "source": [
    "phrog_metadata = pd.read_csv('../PHROG_index_downloaded_01232022.csv')"
   ]
  },
  {
   "cell_type": "code",
   "execution_count": null,
   "id": "8f854a7b",
   "metadata": {},
   "outputs": [],
   "source": [
    "phrog_known = phrog_metadata[~phrog_metadata['Category'].isna()]\n",
    "phrog_known = phrog_known[~phrog_known['Category'].isin(['unknown function'])]\n",
    "\n",
    "cs = set(phrog_known['Category'])\n",
    "\n",
    "## dict for family:label -> {fl}\n",
    "fl = {}\n",
    "for c in cs:\n",
    "    ps = phrog_known[phrog_known['Category'] == c]['#phrog']\n",
    "    for p in ps:\n",
    "        fl[p] = c"
   ]
  },
  {
   "cell_type": "code",
   "execution_count": null,
   "id": "051829f4",
   "metadata": {
    "scrolled": true
   },
   "outputs": [],
   "source": [
    "## fit a label binarizer to the classes, need to have this done before splits to the categories are the same in each split\n",
    "lb = LabelBinarizer()\n",
    "lb.fit(list(cs))"
   ]
  },
  {
   "cell_type": "code",
   "execution_count": null,
   "id": "5c5cde7b",
   "metadata": {},
   "outputs": [],
   "source": [
    "report = pd.read_csv('protbert_bfd_embeddings_phrog/5CV_report.csv', index_col=0)\n",
    "rocs = pd.read_csv('protbert_bfd_embeddings_phrog/5CV_rocs.csv', index_col=0)\n",
    "prcs = pd.read_csv('protbert_bfd_embeddings_phrog/5CV_prcs.csv', index_col=0)\n",
    "n_splits = 5\n",
    "\n",
    "## figure 2A\n",
    "plt.figure(figsize=(8,6))\n",
    "lw = 1\n",
    "\n",
    "mean_fpr = np.linspace(0, 1, 100)\n",
    "\n",
    "for i, color in zip(range(len(lb.classes_)), colors):\n",
    "    a_tpr = []\n",
    "    for j in range(n_splits):\n",
    "        df = rocs[rocs[\"class\"] == lb.classes_[i]]\n",
    "        df = df[df[\"fold\"] == j]\n",
    "        a_tpr.append(np.interp(mean_fpr, df[\"fpr\"], df[\"tpr\"]))\n",
    "        a_tpr[-1][0] = 0.0\n",
    "\n",
    "    mean_tpr = np.mean(a_tpr, axis=0)\n",
    "    mean_tpr[-1] = 1.0\n",
    "    mean_auc = auc(mean_fpr, mean_tpr)\n",
    "    std_auc = np.std(report.loc[lb.classes_[i]]['auroc'])\n",
    "    plt.plot(mean_fpr, mean_tpr, color=color,\n",
    "             label='AUC={1:0.2f}, SD={2:0.2f}' ''.format(lb.classes_[i].split(' ')[0], mean_auc, std_auc),\n",
    "             lw=1)\n",
    "\n",
    "    std_tpr = np.std(a_tpr, axis=0)\n",
    "    tpr_upper = np.minimum(mean_tpr + std_tpr, 1)\n",
    "    tpr_lower = np.maximum(mean_tpr - std_tpr, 0)\n",
    "    plt.fill_between(mean_fpr, tpr_lower, tpr_upper, color=color, alpha=.1)\n",
    "\n",
    "\n",
    "#plt.plot([0, 1], [0, 1], 'k--', lw=lw)\n",
    "plt.xlim([0.0, 1.0])\n",
    "plt.ylim([0.0, 1.05])\n",
    "plt.xlabel('False Positive Rate', fontsize=14)\n",
    "plt.ylabel('True Positive Rate', fontsize=14)\n",
    "\n",
    "plt.legend(loc=\"lower right\")\n",
    "plt.savefig('performance_5CFV_AUROC.png', dpi=300)\n",
    "plt.show()\n",
    "\n",
    "\n",
    "\n",
    "\n",
    "### figure 2B\n",
    "plt.figure(figsize=(8,6))\n",
    "mean_recall = np.linspace(0, 1, 100)\n",
    "\n",
    "for i, color in zip(range(len(lb.classes_)), colors):\n",
    "    a_prec = []\n",
    "    for j in range(n_splits):\n",
    "        df = prcs[prcs[\"class\"] == lb.classes_[i]]\n",
    "        df = df[df[\"fold\"] == j]\n",
    "        prec_fold = df['precision']\n",
    "        recall_fold = df['recall']\n",
    "        prec_fold = prec_fold[::-1]\n",
    "        recall_fold = recall_fold[::-1]\n",
    "        a_prec.append(np.interp(mean_recall, recall_fold, prec_fold))\n",
    "\n",
    "    mean_prec = np.mean(a_prec, axis=0)\n",
    "    std_prec = np.std(a_prec, axis=0)\n",
    "    prec_upper = np.minimum(mean_prec + std_prec, 1)\n",
    "    prec_lower = np.maximum(mean_prec - std_prec, 0)\n",
    "    plt.fill_between(mean_recall, prec_lower, prec_upper, color=color, alpha=.1)\n",
    "\n",
    "\n",
    "    mean_auc = np.mean(report.loc[lb.classes_[i]]['auprc'])\n",
    "    std_auc = np.std(report.loc[lb.classes_[i]]['auprc'])\n",
    "    plt.plot(mean_recall, mean_prec, color=color,\n",
    "             label='AUC={1:0.2f}, SD={2:0.2f}' ''.format(lb.classes_[i].split(' ')[0], mean_auc, std_auc),\n",
    "             lw=1)\n",
    "\n",
    "\n",
    "#plt.plot([0, 1], [0, 1], 'k--', lw=lw)\n",
    "plt.xlim([0.0, 1.0])\n",
    "plt.ylim([0.0, 1.05])\n",
    "plt.xlabel('Recall', fontsize=14)\n",
    "plt.ylabel('Precision', fontsize=14)\n",
    "\n",
    "plt.legend(loc=\"lower left\")\n",
    "plt.savefig('performance_5CFV_AUPRC.png', dpi=300)\n",
    "plt.show()"
   ]
  },
  {
   "cell_type": "code",
   "execution_count": null,
   "id": "2aa44607",
   "metadata": {},
   "outputs": [],
   "source": []
  }
 ],
 "metadata": {
  "kernelspec": {
   "display_name": "Python 3 (ipykernel)",
   "language": "python",
   "name": "python3"
  },
  "language_info": {
   "codemirror_mode": {
    "name": "ipython",
    "version": 3
   },
   "file_extension": ".py",
   "mimetype": "text/x-python",
   "name": "python",
   "nbconvert_exporter": "python",
   "pygments_lexer": "ipython3",
   "version": "3.9.13"
  }
 },
 "nbformat": 4,
 "nbformat_minor": 5
}
