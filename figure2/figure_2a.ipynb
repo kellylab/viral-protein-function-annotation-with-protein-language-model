{
 "cells": [
  {
   "cell_type": "code",
   "execution_count": null,
   "id": "657c1928",
   "metadata": {},
   "outputs": [],
   "source": [
    "import pandas as pd\n",
    "import seaborn as sns\n",
    "import matplotlib.pyplot as plt\n",
    "import math\n",
    "import textwrap"
   ]
  },
  {
   "cell_type": "code",
   "execution_count": null,
   "id": "c6a8b9ff",
   "metadata": {},
   "outputs": [],
   "source": [
    "phrog_metadata = pd.read_csv('../PHROG_index_downloaded_01232022.csv')"
   ]
  },
  {
   "cell_type": "code",
   "execution_count": null,
   "id": "6980fcd4",
   "metadata": {},
   "outputs": [],
   "source": [
    "import numpy as np\n",
    "family_stats = []\n",
    "cs = set(phrog_metadata['Category'])\n",
    "for c in cs:\n",
    "    d = phrog_metadata[phrog_metadata['Category'] == c]\n",
    "    \n",
    "    num_families = len(d)\n",
    "    total_proteins = sum(d['#prot'])\n",
    "    proteins_per_family = np.mean(d['#prot'])\n",
    "    sd_proteins_per_family = np.std(d['#prot'])\n",
    "    \n",
    "    family_stats.append((c, num_families, total_proteins, proteins_per_family, sd_proteins_per_family))\n",
    "\n",
    "df_v3_stats = pd.DataFrame(family_stats, columns=['Category', 'num_families', 'total_proteins', 'avg_proteins_per_family', 'sd_proteins_per_family'])"
   ]
  },
  {
   "cell_type": "code",
   "execution_count": null,
   "id": "ca482085",
   "metadata": {},
   "outputs": [],
   "source": [
    "df_v3_stats"
   ]
  },
  {
   "cell_type": "code",
   "execution_count": null,
   "id": "6ecce0e0",
   "metadata": {},
   "outputs": [],
   "source": [
    "phrog_palette = {\n",
    "    'DNA, RNA and nucleotide metabolism': 'red',\n",
    "    'connector': 'blue',\n",
    "    'head and packaging': 'green',\n",
    "    'integration and excision': 'pink',\n",
    "    'lysis': 'gray',\n",
    "    'moron, auxiliary metabolic gene and host takeover': 'brown',\n",
    "    'other': 'purple',\n",
    "    'tail': 'darkorange',\n",
    "    'transcription regulation': 'cyan',\n",
    "    'unknown function': 'black'\n",
    "}"
   ]
  },
  {
   "cell_type": "code",
   "execution_count": null,
   "id": "c3477d0c",
   "metadata": {},
   "outputs": [],
   "source": [
    "max_width=17\n",
    "plt.style.use('default')\n",
    "plt.rcParams[\"figure.figsize\"] = (7,6)\n",
    "plt.rcParams['font.size'] = 14"
   ]
  },
  {
   "cell_type": "code",
   "execution_count": null,
   "id": "b4af45c2",
   "metadata": {},
   "outputs": [],
   "source": [
    "df_stats = df_v3_stats[~df_v3_stats['Category'].isin(['unknown function'])]\n",
    "g = sns.scatterplot(data=df_stats,\n",
    "                x='num_families',\n",
    "                y='total_proteins',\n",
    "                hue='Category',\n",
    "                s=300,\n",
    "                palette=phrog_palette)\n",
    "\n",
    "plt.legend([],[], frameon=False)\n",
    "plt.xlabel('Number of families')\n",
    "plt.ylabel('Total number of proteins')\n",
    "\n",
    "plt.tight_layout()\n",
    "plt.savefig('/Users/zacharyflamholz/Desktop/phrog_category_stats.png', dpi=300)"
   ]
  }
 ],
 "metadata": {
  "kernelspec": {
   "display_name": "Python 3 (ipykernel)",
   "language": "python",
   "name": "python3"
  },
  "language_info": {
   "codemirror_mode": {
    "name": "ipython",
    "version": 3
   },
   "file_extension": ".py",
   "mimetype": "text/x-python",
   "name": "python",
   "nbconvert_exporter": "python",
   "pygments_lexer": "ipython3",
   "version": "3.9.13"
  }
 },
 "nbformat": 4,
 "nbformat_minor": 5
}
