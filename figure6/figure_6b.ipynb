{
 "cells": [
  {
   "cell_type": "code",
   "execution_count": null,
   "id": "70571c57",
   "metadata": {},
   "outputs": [],
   "source": [
    "import pandas as pd\n",
    "from itertools import combinations, count\n",
    "from tqdm import tqdm\n",
    "import os\n",
    "\n",
    "import networkx as nx\n",
    "import matplotlib.pyplot as plt\n",
    "import numpy as np\n",
    "\n",
    "from utils import get_faa, collect_family_pairs"
   ]
  },
  {
   "cell_type": "code",
   "execution_count": null,
   "id": "63b0e784",
   "metadata": {},
   "outputs": [],
   "source": [
    "phrog_palette = {\n",
    "    'DNA, RNA and nucleotide metabolism': 'red',\n",
    "    'connector': 'blue',\n",
    "    'head and packaging': 'green',\n",
    "    'integration and excision': 'pink',\n",
    "    'lysis': 'gray',\n",
    "    'moron, auxiliary metabolic gene and host takeover': 'brown',\n",
    "    'other': 'purple',\n",
    "    'tail': 'darkorange',\n",
    "    'transcription regulation': 'cyan',\n",
    "    'unknown': 'lightgray'\n",
    "}"
   ]
  },
  {
   "cell_type": "markdown",
   "id": "33fbc4df",
   "metadata": {},
   "source": [
    "# analysis"
   ]
  },
  {
   "cell_type": "code",
   "execution_count": null,
   "id": "ba1262ab",
   "metadata": {},
   "outputs": [],
   "source": [
    "cluster_tsv = pd.read_csv('dereplicated_mmseqs_faa_cluster.tsv', sep='\\t', header=None)\n",
    "cluster_tsv.columns = ['cluster_id', 'protein_id']"
   ]
  },
  {
   "cell_type": "code",
   "execution_count": null,
   "id": "7c849bde",
   "metadata": {},
   "outputs": [],
   "source": [
    "c_p = cluster_tsv.groupby('cluster_id')['protein_id'].apply(list).to_dict()"
   ]
  },
  {
   "cell_type": "code",
   "execution_count": null,
   "id": "092fc30b",
   "metadata": {},
   "outputs": [],
   "source": [
    "p_c = {vv:k for k,v in c_p.items() for vv in v}"
   ]
  },
  {
   "cell_type": "code",
   "execution_count": null,
   "id": "f73a24a9",
   "metadata": {},
   "outputs": [],
   "source": [
    "contig_dir = 'de_replicated_faas/'\n",
    "contigs = os.listdir(contig_dir)"
   ]
  },
  {
   "cell_type": "code",
   "execution_count": null,
   "id": "3fdd8932",
   "metadata": {},
   "outputs": [],
   "source": [
    "df1 = pd.DataFrame(columns=['p1', 'p2'])\n",
    "contig_protein_dict = {}\n",
    "all_proteins = {}\n",
    "for c in tqdm(contigs):\n",
    "    c_path = contig_dir + c\n",
    "    contig_proteins, contig_proteins_sequences = get_faa(c_path)\n",
    "    all_proteins.update(dict(zip([x.split(' ')[0][1:] for x in contig_proteins], contig_proteins_sequences)))\n",
    "    contig_protein_dict[c] = [x.split(' ')[0][1:] for x in contig_proteins]\n",
    "    contig_protein_clusters = [p_c[x.split(' ')[0][1:]] for x in contig_proteins]\n",
    "    protein_number = list(range(1, len(contig_proteins)+1))\n",
    "    df = pd.DataFrame({'protein_name': contig_proteins, 'query_id': contig_protein_clusters, 'protein_id': protein_number})\n",
    "    contig_pairs = collect_family_pairs(contig_df=df, neighborhood=1)\n",
    "    df1 = pd.concat([df1, contig_pairs], axis=0)"
   ]
  },
  {
   "cell_type": "markdown",
   "id": "4f7c738b",
   "metadata": {},
   "source": [
    "### capsid clusters"
   ]
  },
  {
   "cell_type": "code",
   "execution_count": null,
   "id": "2b6082a7",
   "metadata": {},
   "outputs": [],
   "source": [
    "capsid_ids, _ = get_faa('mcp.faa')\n",
    "capsid_ids = [i.split(' ')[0][1:] for i in capsid_ids]\n",
    "capsid_clusters = set([p_c[i] for i in capsid_ids if i in p_c])\n",
    "\n",
    "capsid_cluster_dict = {}\n",
    "for c in c_p:\n",
    "    if c in capsid_clusters:\n",
    "        capsid_cluster_dict[c] = 'capsid'\n",
    "    else:\n",
    "        capsid_cluster_dict[c] = ''"
   ]
  },
  {
   "cell_type": "markdown",
   "id": "a663d73c",
   "metadata": {},
   "source": [
    "## metadata information"
   ]
  },
  {
   "cell_type": "code",
   "execution_count": null,
   "id": "ba68f3c7",
   "metadata": {},
   "outputs": [],
   "source": [
    "cluster_predictions = pd.read_csv('cluster_predicted_PHROG_category.csv')"
   ]
  },
  {
   "cell_type": "code",
   "execution_count": null,
   "id": "5392c0c5",
   "metadata": {},
   "outputs": [],
   "source": [
    "cluster_predictions['color_map'] = [phrog_palette[x] for x in cluster_predictions['predicted_category']]\n",
    "phrog_color_map = cluster_predictions[['cluster', 'color_map']].set_index('cluster').T.to_dict(orient='list')\n",
    "phrog_color_map = {k:v[0] for k,v in phrog_color_map.items()}"
   ]
  },
  {
   "cell_type": "markdown",
   "id": "43ad62b7",
   "metadata": {},
   "source": [
    "# network construction"
   ]
  },
  {
   "cell_type": "code",
   "execution_count": null,
   "id": "5aa61b1a",
   "metadata": {},
   "outputs": [],
   "source": [
    "pair_df = df1.copy()\n",
    "pair_df = pair_df[pair_df['p1'].isin(c_p.keys())]\n",
    "pair_df = pair_df[pair_df['p2'].isin(c_p.keys())]"
   ]
  },
  {
   "cell_type": "code",
   "execution_count": null,
   "id": "32e4338f",
   "metadata": {},
   "outputs": [],
   "source": [
    "p_p = pair_df.pivot_table(index='p1', columns='p2', aggfunc=len).fillna(0)\n",
    "p_p = p_p.rename_axis(None, axis=1)\n",
    "p_p_norm = p_p"
   ]
  },
  {
   "cell_type": "code",
   "execution_count": null,
   "id": "60354b41",
   "metadata": {},
   "outputs": [],
   "source": [
    "df = p_p_norm.stack().reset_index()\n",
    "df.columns = ['p1', 'p2', 'weight']"
   ]
  },
  {
   "cell_type": "code",
   "execution_count": null,
   "id": "ad873454",
   "metadata": {},
   "outputs": [],
   "source": [
    "df = df[df['weight'] != 0.0]"
   ]
  },
  {
   "cell_type": "code",
   "execution_count": null,
   "id": "bc286aab",
   "metadata": {},
   "outputs": [],
   "source": [
    "threshold = 1.0\n",
    "threshold_df = df[df['weight'] > threshold]"
   ]
  },
  {
   "cell_type": "code",
   "execution_count": null,
   "id": "87409e21",
   "metadata": {},
   "outputs": [],
   "source": [
    "## cluster node sizes\n",
    "cluster_node_size = {k:len(v) for k,v in c_p.items()}"
   ]
  },
  {
   "cell_type": "markdown",
   "id": "7977b82c",
   "metadata": {},
   "source": [
    "### construct graph"
   ]
  },
  {
   "cell_type": "code",
   "execution_count": null,
   "id": "713ef0d0",
   "metadata": {},
   "outputs": [],
   "source": [
    "G = nx.Graph()"
   ]
  },
  {
   "cell_type": "code",
   "execution_count": null,
   "id": "67ee85f0",
   "metadata": {},
   "outputs": [],
   "source": [
    "G = nx.from_pandas_edgelist(threshold_df, 'p1', 'p2', edge_attr=['weight'])\n",
    "\n",
    "nx.set_node_attributes(G, values=phrog_color_map, name='phrog_category')\n",
    "nx.set_node_attributes(G, values=cluster_node_size, name='cluster_size')\n",
    "nx.set_node_attributes(G, values=capsid_cluster_dict, name='cluster_annotation')"
   ]
  },
  {
   "cell_type": "code",
   "execution_count": null,
   "id": "224eccc0",
   "metadata": {},
   "outputs": [],
   "source": [
    "## output graph for cytoscape visualization\n",
    "nx.write_graphml(G, 'network.graphml')"
   ]
  },
  {
   "cell_type": "code",
   "execution_count": null,
   "id": "8d8a514b",
   "metadata": {},
   "outputs": [],
   "source": []
  }
 ],
 "metadata": {
  "kernelspec": {
   "display_name": "Python 3 (ipykernel)",
   "language": "python",
   "name": "python3"
  },
  "language_info": {
   "codemirror_mode": {
    "name": "ipython",
    "version": 3
   },
   "file_extension": ".py",
   "mimetype": "text/x-python",
   "name": "python",
   "nbconvert_exporter": "python",
   "pygments_lexer": "ipython3",
   "version": "3.11.4"
  }
 },
 "nbformat": 4,
 "nbformat_minor": 5
}
