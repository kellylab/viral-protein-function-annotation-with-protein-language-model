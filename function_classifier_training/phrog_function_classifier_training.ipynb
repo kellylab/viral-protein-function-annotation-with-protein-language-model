{
 "cells": [
  {
   "cell_type": "markdown",
   "id": "b28b564a",
   "metadata": {},
   "source": [
    "# PHROG data\n",
    "\n",
    "PHROG_data must contain:  \n",
    "\n",
    "protbert_bfd_embeddings_phrog: download all phrog family embedding pkl objects from google cloud. Follow instructions on repo README."
   ]
  },
  {
   "cell_type": "code",
   "execution_count": null,
   "id": "e25532ef",
   "metadata": {},
   "outputs": [],
   "source": [
    "from sklearn.preprocessing import LabelBinarizer\n",
    "from sklearn.metrics import classification_report\n",
    "from tensorflow.keras.models import Sequential\n",
    "from tensorflow.keras.layers import Dense, Dropout\n",
    "from tensorflow.keras.optimizers import SGD, Adam\n",
    "from tensorflow.keras import backend as K\n",
    "import seaborn as sns\n",
    "import matplotlib.pyplot as plt\n",
    "import numpy as np\n",
    "import pandas as pd\n",
    "import pickle\n",
    "import random\n",
    "import os\n",
    "from tqdm import tqdm"
   ]
  },
  {
   "cell_type": "code",
   "execution_count": null,
   "id": "8df009fa",
   "metadata": {},
   "outputs": [],
   "source": [
    "phrog_data_dir = 'PHROG_data/'"
   ]
  },
  {
   "cell_type": "code",
   "execution_count": null,
   "id": "fc2a0170",
   "metadata": {},
   "outputs": [],
   "source": [
    "phrog_metadata = pd.read_csv('../PHROG_index_revised_v4_10292022.csv')"
   ]
  },
  {
   "cell_type": "code",
   "execution_count": null,
   "id": "19a8730f",
   "metadata": {},
   "outputs": [],
   "source": [
    "sequence_number_per_family = 1000000"
   ]
  },
  {
   "cell_type": "markdown",
   "id": "4d6ae8c4",
   "metadata": {},
   "source": [
    "### still only condsider the labels from phrogs v3"
   ]
  },
  {
   "cell_type": "code",
   "execution_count": null,
   "id": "8a1da557",
   "metadata": {},
   "outputs": [],
   "source": [
    "phrog_metadata['Category'].value_counts()"
   ]
  },
  {
   "cell_type": "code",
   "execution_count": null,
   "id": "8f854a7b",
   "metadata": {},
   "outputs": [],
   "source": [
    "phrog_known = phrog_metadata[~phrog_metadata['Category'].isna()]\n",
    "phrog_known = phrog_known[~phrog_known['Category'].isin(['unknown function'])]\n",
    "len(phrog_known)"
   ]
  },
  {
   "cell_type": "code",
   "execution_count": null,
   "id": "501afd94",
   "metadata": {},
   "outputs": [],
   "source": [
    "cs = set(phrog_known['Category'])"
   ]
  },
  {
   "cell_type": "code",
   "execution_count": null,
   "id": "66be5cfd",
   "metadata": {},
   "outputs": [],
   "source": [
    "## dict for family:label -> {fl}\n",
    "## dict for family:vectors -> {fv}\n",
    "## dict for label:families -> {lf}\n",
    "fl = {}\n",
    "fv = {}\n",
    "lf = {}\n",
    "\n",
    "for c in cs:\n",
    "    ps = phrog_known[phrog_known['Category'] == c]['#phrog']\n",
    "    for p in ps:\n",
    "        fl[p] = c\n",
    "        try:\n",
    "            fv[p] = pickle.load(open('{0}/protbert_bfd_embeddings_phrog/{1}.pkl' ''.format(phrog_data_dir, p), 'rb'))\n",
    "        except:\n",
    "            print('{0} embeddings not found' ''.format(p))\n",
    "            pass\n",
    "    lf[c] = list(set(ps).intersection(set(fv.keys())))"
   ]
  },
  {
   "cell_type": "markdown",
   "id": "d8c1f17e",
   "metadata": {},
   "source": [
    "### building the training and testing splits for PHROG family leave out"
   ]
  },
  {
   "cell_type": "code",
   "execution_count": null,
   "id": "c75613c2",
   "metadata": {},
   "outputs": [],
   "source": [
    "from typing import List, Dict"
   ]
  },
  {
   "cell_type": "code",
   "execution_count": null,
   "id": "d2ba28c5",
   "metadata": {},
   "outputs": [],
   "source": [
    "def subset_training_data(\n",
    "    vectors: Dict, \n",
    "    labels: Dict, \n",
    "    tr_families: List,\n",
    "    num_train_seq: int):\n",
    "    \n",
    "    tr_vectors = [random.sample(list(vectors[f]), min(num_train_seq, len(vectors[f]))) for f in tr_families]\n",
    "    tr_vectors = np.vstack(tr_vectors)\n",
    "    tr_label = [[labels[f]] * min(num_train_seq, len(vectors[f])) for f in tr_families]\n",
    "    tr_label = [j for i in tr_label for j in i]\n",
    "\n",
    "    return tr_vectors, tr_label"
   ]
  },
  {
   "cell_type": "code",
   "execution_count": null,
   "id": "5de0c422",
   "metadata": {},
   "outputs": [],
   "source": [
    "train_families = list(set(fv.keys()))"
   ]
  },
  {
   "cell_type": "code",
   "execution_count": null,
   "id": "3d1fa781",
   "metadata": {},
   "outputs": [],
   "source": [
    "train_x, train_y = subset_training_data(\n",
    "    vectors=fv, \n",
    "    labels=fl, \n",
    "    tr_families=train_families, \n",
    "    num_train_seq=sequence_number_per_family)"
   ]
  },
  {
   "cell_type": "code",
   "execution_count": null,
   "id": "963d229b",
   "metadata": {},
   "outputs": [],
   "source": [
    "np.unique(np.array(train_y), return_counts=True)"
   ]
  },
  {
   "cell_type": "markdown",
   "id": "072af4d7",
   "metadata": {},
   "source": [
    "## feed forward neural network"
   ]
  },
  {
   "cell_type": "code",
   "execution_count": null,
   "id": "19ebe577",
   "metadata": {},
   "outputs": [],
   "source": [
    "# label binarize\n",
    "# convert the labels from integers to vectors\n",
    "lb = LabelBinarizer()\n",
    "trainY = lb.fit_transform(train_y)\n",
    "trainX = train_x"
   ]
  },
  {
   "cell_type": "code",
   "execution_count": null,
   "id": "9e2db83c",
   "metadata": {},
   "outputs": [],
   "source": [
    "# model architechture\n",
    "model = Sequential()\n",
    "model.add(Dense(512, input_shape=(1024,), activation=\"relu\"))\n",
    "model.add(Dropout(0.2))\n",
    "model.add(Dense(256, input_shape=(512,), activation=\"relu\"))\n",
    "model.add(Dropout(0.2))\n",
    "model.add(Dense(128, input_shape=(256,), activation=\"relu\"))\n",
    "model.add(Dense(9, activation=\"softmax\"))"
   ]
  },
  {
   "cell_type": "code",
   "execution_count": null,
   "id": "557fa78e",
   "metadata": {},
   "outputs": [],
   "source": [
    "n_epoch = 5\n",
    "opt = Adam(0.0001)\n",
    "model.compile(loss=\"categorical_crossentropy\", optimizer=opt, metrics=[\"accuracy\"])\n",
    "H = model.fit(trainX, trainY, epochs=n_epoch, batch_size=60)"
   ]
  },
  {
   "cell_type": "code",
   "execution_count": null,
   "id": "2cb05a53",
   "metadata": {},
   "outputs": [],
   "source": [
    "# plot the training loss and accuracy\n",
    "plt.style.use(\"ggplot\")\n",
    "plt.figure()\n",
    "plt.plot(np.arange(0, n_epoch), H.history[\"loss\"], label=\"train_loss\")\n",
    "plt.plot(np.arange(0, n_epoch), H.history[\"accuracy\"], label=\"train_acc\")\n",
    "plt.title(\"Training Loss and Accuracy\")\n",
    "plt.xlabel(\"Epoch #\")\n",
    "plt.ylabel(\"Loss/Accuracy\")\n",
    "plt.legend()\n",
    "\n"
   ]
  },
  {
   "cell_type": "markdown",
   "id": "68460022",
   "metadata": {},
   "source": [
    "## test the PHROG unknown protein families"
   ]
  },
  {
   "cell_type": "code",
   "execution_count": null,
   "id": "67ef7957",
   "metadata": {},
   "outputs": [],
   "source": [
    "phrog_unknown = phrog_metadata[~phrog_metadata['Category'].isna()]\n",
    "phrog_unknown = phrog_unknown[phrog_unknown['Category'].isin(['unknown function'])]"
   ]
  },
  {
   "cell_type": "code",
   "execution_count": null,
   "id": "0d7ecb41",
   "metadata": {},
   "outputs": [],
   "source": [
    "ufv = {}\n",
    "for p in phrog_unknown['#phrog']:\n",
    "    try:\n",
    "        ufv[p] = pickle.load(open('{0}/protbert_bfd_embeddings_phrog/{1}.pkl' ''.format(phrog_data_dir,p), 'rb'))\n",
    "    except:\n",
    "        print('{0} embeddings not found' ''.format(p))\n",
    "        pass"
   ]
  },
  {
   "cell_type": "code",
   "execution_count": null,
   "id": "e19e0bed",
   "metadata": {},
   "outputs": [],
   "source": [
    "confidence = 0.8\n",
    "confident_unknown = []\n",
    "unconfident_unknown = []\n",
    "for f in tqdm(ufv.keys()):\n",
    "    pred_f = model.predict(ufv[f], verbose=0)\n",
    "    pred_f = np.mean(pred_f, axis=0)\n",
    "    if sum(pred_f > confidence) > 0:\n",
    "        confident_unknown.append(f)\n",
    "    else:\n",
    "        unconfident_unknown.append(f)"
   ]
  },
  {
   "cell_type": "code",
   "execution_count": null,
   "id": "2faecadf",
   "metadata": {},
   "outputs": [],
   "source": [
    "len(unconfident_unknown)"
   ]
  },
  {
   "cell_type": "code",
   "execution_count": null,
   "id": "e9319013",
   "metadata": {},
   "outputs": [],
   "source": [
    "ufv_vectors = [random.sample(list(ufv[f]), min(sequence_number_per_family, len(ufv[f]))) for f in unconfident_unknown]\n",
    "ufv_vectors = np.vstack(ufv_vectors)\n",
    "ufv_label = ['unknown'] * len(ufv_vectors)"
   ]
  },
  {
   "cell_type": "code",
   "execution_count": null,
   "id": "db96c7ed",
   "metadata": {},
   "outputs": [],
   "source": [
    "len(ufv_vectors)"
   ]
  },
  {
   "cell_type": "markdown",
   "id": "8b0d9eb0",
   "metadata": {},
   "source": [
    "### train a new model with an 'unknown' class"
   ]
  },
  {
   "cell_type": "code",
   "execution_count": null,
   "id": "62305da7",
   "metadata": {},
   "outputs": [],
   "source": [
    "vectors = np.concatenate((train_x, ufv_vectors))\n",
    "label = np.concatenate((train_y, ufv_label))"
   ]
  },
  {
   "cell_type": "code",
   "execution_count": null,
   "id": "0da1659e",
   "metadata": {},
   "outputs": [],
   "source": [
    "np.unique(np.array(label), return_counts=True)"
   ]
  },
  {
   "cell_type": "code",
   "execution_count": null,
   "id": "994bfca2",
   "metadata": {},
   "outputs": [],
   "source": [
    "trainX = vectors\n",
    "trainY = label"
   ]
  },
  {
   "cell_type": "code",
   "execution_count": null,
   "id": "c99f0eab",
   "metadata": {},
   "outputs": [],
   "source": [
    "# label binarize\n",
    "# convert the labels from integers to vectors\n",
    "lb = LabelBinarizer()\n",
    "trainY = lb.fit_transform(trainY)"
   ]
  },
  {
   "cell_type": "code",
   "execution_count": null,
   "id": "8dae354d",
   "metadata": {},
   "outputs": [],
   "source": [
    "# model architechture\n",
    "model2 = Sequential()\n",
    "model2.add(Dense(512, input_shape=(1024,), activation=\"relu\"))\n",
    "model2.add(Dropout(0.2))\n",
    "model2.add(Dense(256, input_shape=(512,), activation=\"relu\"))\n",
    "model2.add(Dropout(0.2))\n",
    "model2.add(Dense(128, input_shape=(256,), activation=\"relu\"))\n",
    "model2.add(Dense(10, activation=\"softmax\"))"
   ]
  },
  {
   "cell_type": "code",
   "execution_count": null,
   "id": "ec58e9ae",
   "metadata": {},
   "outputs": [],
   "source": [
    "n_epoch = 5\n",
    "opt = Adam(0.0001)\n",
    "model2.compile(loss=\"categorical_crossentropy\", optimizer=opt, metrics=[\"accuracy\"])\n",
    "H2 = model2.fit(trainX, trainY, epochs=n_epoch, batch_size=60)"
   ]
  },
  {
   "cell_type": "code",
   "execution_count": null,
   "id": "31f25540",
   "metadata": {},
   "outputs": [],
   "source": [
    "# plot the training loss and accuracy\n",
    "plt.rcParams[\"figure.figsize\"]=8,8\n",
    "plt.style.use(\"ggplot\")\n",
    "plt.figure()\n",
    "plt.plot(np.arange(0, n_epoch), H2.history[\"loss\"], label=\"train_loss\")\n",
    "\n",
    "plt.plot(np.arange(0, n_epoch), H2.history[\"accuracy\"], label=\"train_acc\")\n",
    "\n",
    "plt.title(\"Training Loss and Accuracy\")\n",
    "plt.xlabel(\"Epoch #\")\n",
    "plt.ylabel(\"Loss/Accuracy\")\n",
    "plt.legend()\n",
    "\n"
   ]
  },
  {
   "cell_type": "markdown",
   "id": "0707ab83",
   "metadata": {},
   "source": [
    "## SAVE MODEL for external testing on protein sequence"
   ]
  },
  {
   "cell_type": "code",
   "execution_count": null,
   "id": "a444ea86",
   "metadata": {},
   "outputs": [],
   "source": [
    "#os.mkdir('models')\n",
    "model2.save('models/model_unknown_80_07092023')\n",
    "pickle.dump(lb, open('models/model_unknown_80_07092023_lb.pkl', 'wb'))"
   ]
  },
  {
   "cell_type": "code",
   "execution_count": null,
   "id": "26e4bcbd",
   "metadata": {},
   "outputs": [],
   "source": []
  }
 ],
 "metadata": {
  "kernelspec": {
   "display_name": "Python 3 (ipykernel)",
   "language": "python",
   "name": "python3"
  },
  "language_info": {
   "codemirror_mode": {
    "name": "ipython",
    "version": 3
   },
   "file_extension": ".py",
   "mimetype": "text/x-python",
   "name": "python",
   "nbconvert_exporter": "python",
   "pygments_lexer": "ipython3",
   "version": "3.9.13"
  }
 },
 "nbformat": 4,
 "nbformat_minor": 5
}
