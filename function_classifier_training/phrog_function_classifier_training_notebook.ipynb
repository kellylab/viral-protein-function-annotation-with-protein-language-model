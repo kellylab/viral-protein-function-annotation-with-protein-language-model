{
 "cells": [
  {
   "cell_type": "markdown",
   "id": "b28b564a",
   "metadata": {},
   "source": [
    "# PHROG data\n",
    "\n",
    "PHROG_data must contain:  \n",
    "\n",
    "phrog revised index: https://storage.googleapis.com/viral_protein_family_plm_embeddings/phrogs/PHROG_index_revised_v4_10292022.csv  \n",
    "\n",
    "protbert_bfd_embeddings_phrog: download all phrog family embedding pkl objects from google cloud. Follow instructions on repo README."
   ]
  },
  {
   "cell_type": "code",
   "execution_count": 1,
   "id": "e25532ef",
   "metadata": {},
   "outputs": [],
   "source": [
    "from sklearn.preprocessing import LabelBinarizer\n",
    "from sklearn.metrics import classification_report\n",
    "from tensorflow.keras.models import Sequential\n",
    "from tensorflow.keras.layers import Dense, Dropout\n",
    "from tensorflow.keras.optimizers import SGD, Adam\n",
    "from tensorflow.keras import backend as K\n",
    "import seaborn as sns\n",
    "import matplotlib.pyplot as plt\n",
    "import numpy as np\n",
    "import pandas as pd\n",
    "import pickle\n",
    "import random\n",
    "import os\n",
    "from tqdm import tqdm"
   ]
  },
  {
   "cell_type": "code",
   "execution_count": 2,
   "id": "8df009fa",
   "metadata": {},
   "outputs": [],
   "source": [
    "phrog_data_dir = 'PHROG_data/'"
   ]
  },
  {
   "cell_type": "code",
   "execution_count": 3,
   "id": "fc2a0170",
   "metadata": {},
   "outputs": [],
   "source": [
    "phrog_metadata = pd.read_csv(phrog_data_dir + 'PHROG_index_revised_v4_10292022.csv')"
   ]
  },
  {
   "cell_type": "markdown",
   "id": "4d6ae8c4",
   "metadata": {},
   "source": [
    "### still only condsider the labels from phrogs v3"
   ]
  },
  {
   "cell_type": "code",
   "execution_count": 4,
   "id": "8a1da557",
   "metadata": {},
   "outputs": [
    {
     "data": {
      "text/plain": [
       "unknown function                                     33792\n",
       "tail                                                  1219\n",
       "DNA, RNA and nucleotide metabolism                    1065\n",
       "head and packaging                                     946\n",
       "other                                                  560\n",
       "moron, auxiliary metabolic gene and host takeover      458\n",
       "transcription regulation                               303\n",
       "lysis                                                  299\n",
       "connector                                              133\n",
       "integration and excision                               105\n",
       "Name: Category, dtype: int64"
      ]
     },
     "execution_count": 4,
     "metadata": {},
     "output_type": "execute_result"
    }
   ],
   "source": [
    "phrog_metadata['Category'].value_counts()"
   ]
  },
  {
   "cell_type": "code",
   "execution_count": 5,
   "id": "8f854a7b",
   "metadata": {},
   "outputs": [
    {
     "data": {
      "text/plain": [
       "5088"
      ]
     },
     "execution_count": 5,
     "metadata": {},
     "output_type": "execute_result"
    }
   ],
   "source": [
    "phrog_known = phrog_metadata[~phrog_metadata['Category'].isna()]\n",
    "phrog_known = phrog_known[~phrog_known['Category'].isin(['unknown function'])]\n",
    "len(phrog_known)"
   ]
  },
  {
   "cell_type": "code",
   "execution_count": 6,
   "id": "501afd94",
   "metadata": {},
   "outputs": [],
   "source": [
    "cs = set(phrog_known['Category'])"
   ]
  },
  {
   "cell_type": "code",
   "execution_count": 7,
   "id": "66be5cfd",
   "metadata": {},
   "outputs": [],
   "source": [
    "## dict for family:label -> {fl}\n",
    "## dict for family:vectors -> {fv}\n",
    "## dict for label:families -> {lf}\n",
    "fl = {}\n",
    "fv = {}\n",
    "lf = {}\n",
    "\n",
    "for c in cs:\n",
    "    ps = phrog_known[phrog_known['Category'] == c]['#phrog']\n",
    "    for p in ps:\n",
    "        fl[p] = c\n",
    "        try:\n",
    "            fv[p] = pickle.load(open('{0}/protbert_bfd_embeddings_phrog/{1}.pkl' ''.format(phrog_data_dir, p), 'rb'))\n",
    "        except:\n",
    "            print('{0} embeddings not found' ''.format(p))\n",
    "            pass\n",
    "    lf[c] = list(set(ps).intersection(set(fv.keys())))"
   ]
  },
  {
   "cell_type": "markdown",
   "id": "d8c1f17e",
   "metadata": {},
   "source": [
    "### building the training and testing splits for PHROG family leave out"
   ]
  },
  {
   "cell_type": "code",
   "execution_count": 8,
   "id": "5de0c422",
   "metadata": {},
   "outputs": [],
   "source": [
    "train_families = list(set(fv.keys()))"
   ]
  },
  {
   "cell_type": "code",
   "execution_count": 9,
   "id": "257c0382",
   "metadata": {},
   "outputs": [],
   "source": [
    "## format training arrays\n",
    "tr_vectors = [x for f in train_families for x in fv[f]]\n",
    "tr_vectors = np.vstack(tr_vectors)\n",
    "tr_label = [[fl[f]] * len(fv[f]) for f in train_families]\n",
    "tr_label = [j for i in tr_label for j in i]"
   ]
  },
  {
   "cell_type": "code",
   "execution_count": 10,
   "id": "ecdfddea",
   "metadata": {},
   "outputs": [
    {
     "data": {
      "text/plain": [
       "(array(['DNA, RNA and nucleotide metabolism', 'connector',\n",
       "        'head and packaging', 'integration and excision', 'lysis',\n",
       "        'moron, auxiliary metabolic gene and host takeover', 'other',\n",
       "        'tail', 'transcription regulation'], dtype='<U49'),\n",
       " array([ 98104,  34054,  90584,  16688,  30997,  22566,  37349, 102955,\n",
       "         39386]))"
      ]
     },
     "execution_count": 10,
     "metadata": {},
     "output_type": "execute_result"
    }
   ],
   "source": [
    "np.unique(np.array(tr_label), return_counts=True)"
   ]
  },
  {
   "cell_type": "code",
   "execution_count": 11,
   "id": "da0aa2b8",
   "metadata": {},
   "outputs": [],
   "source": [
    "trainX = tr_vectors\n",
    "trainY = tr_label"
   ]
  },
  {
   "cell_type": "markdown",
   "id": "072af4d7",
   "metadata": {},
   "source": [
    "## feed forward neural network"
   ]
  },
  {
   "cell_type": "code",
   "execution_count": 12,
   "id": "19ebe577",
   "metadata": {},
   "outputs": [],
   "source": [
    "# label binarize\n",
    "# convert the labels from integers to vectors\n",
    "lb = LabelBinarizer()\n",
    "trainY = lb.fit_transform(trainY)"
   ]
  },
  {
   "cell_type": "code",
   "execution_count": 13,
   "id": "9e2db83c",
   "metadata": {},
   "outputs": [
    {
     "name": "stdout",
     "output_type": "stream",
     "text": [
      "Metal device set to: Apple M1 Pro\n"
     ]
    },
    {
     "name": "stderr",
     "output_type": "stream",
     "text": [
      "2023-01-10 17:27:45.779257: I tensorflow/core/common_runtime/pluggable_device/pluggable_device_factory.cc:306] Could not identify NUMA node of platform GPU ID 0, defaulting to 0. Your kernel may not have been built with NUMA support.\n",
      "2023-01-10 17:27:45.779356: I tensorflow/core/common_runtime/pluggable_device/pluggable_device_factory.cc:272] Created TensorFlow device (/job:localhost/replica:0/task:0/device:GPU:0 with 0 MB memory) -> physical PluggableDevice (device: 0, name: METAL, pci bus id: <undefined>)\n"
     ]
    }
   ],
   "source": [
    "# model architechture\n",
    "model = Sequential()\n",
    "model.add(Dense(512, input_shape=(1024,), activation=\"relu\"))\n",
    "model.add(Dropout(0.2))\n",
    "model.add(Dense(256, input_shape=(512,), activation=\"relu\"))\n",
    "model.add(Dropout(0.2))\n",
    "model.add(Dense(128, input_shape=(256,), activation=\"relu\"))\n",
    "model.add(Dense(9, activation=\"softmax\"))"
   ]
  },
  {
   "cell_type": "code",
   "execution_count": 14,
   "id": "557fa78e",
   "metadata": {},
   "outputs": [
    {
     "name": "stdout",
     "output_type": "stream",
     "text": [
      "Epoch 1/20\n"
     ]
    },
    {
     "name": "stderr",
     "output_type": "stream",
     "text": [
      "2023-01-10 17:27:46.216991: W tensorflow/core/platform/profile_utils/cpu_utils.cc:128] Failed to get CPU frequency: 0 Hz\n"
     ]
    },
    {
     "name": "stdout",
     "output_type": "stream",
     "text": [
      "\r",
      "   1/7879 [..............................] - ETA: 50:24 - loss: 2.2008 - accuracy: 0.0333"
     ]
    },
    {
     "name": "stderr",
     "output_type": "stream",
     "text": [
      "2023-01-10 17:27:46.431950: I tensorflow/core/grappler/optimizers/custom_graph_optimizer_registry.cc:114] Plugin optimizer for device_type GPU is enabled.\n"
     ]
    },
    {
     "name": "stdout",
     "output_type": "stream",
     "text": [
      "7879/7879 [==============================] - 66s 8ms/step - loss: 1.2193 - accuracy: 0.5875\n",
      "Epoch 2/20\n",
      "7879/7879 [==============================] - 64s 8ms/step - loss: 0.7690 - accuracy: 0.7497\n",
      "Epoch 3/20\n",
      "7879/7879 [==============================] - 64s 8ms/step - loss: 0.6270 - accuracy: 0.7984\n",
      "Epoch 4/20\n",
      "7879/7879 [==============================] - 64s 8ms/step - loss: 0.5350 - accuracy: 0.8285\n",
      "Epoch 5/20\n",
      "7879/7879 [==============================] - 63s 8ms/step - loss: 0.4683 - accuracy: 0.8523\n",
      "Epoch 6/20\n",
      "7879/7879 [==============================] - 63s 8ms/step - loss: 0.4173 - accuracy: 0.8696\n",
      "Epoch 7/20\n",
      "7879/7879 [==============================] - 63s 8ms/step - loss: 0.3773 - accuracy: 0.8839\n",
      "Epoch 8/20\n",
      "7879/7879 [==============================] - 63s 8ms/step - loss: 0.3449 - accuracy: 0.8944\n",
      "Epoch 9/20\n",
      "7879/7879 [==============================] - 63s 8ms/step - loss: 0.3173 - accuracy: 0.9040\n",
      "Epoch 10/20\n",
      "7879/7879 [==============================] - 63s 8ms/step - loss: 0.2941 - accuracy: 0.9110\n",
      "Epoch 11/20\n",
      "7879/7879 [==============================] - 63s 8ms/step - loss: 0.2753 - accuracy: 0.9174\n",
      "Epoch 12/20\n",
      "7879/7879 [==============================] - 63s 8ms/step - loss: 0.2581 - accuracy: 0.9230\n",
      "Epoch 13/20\n",
      "7879/7879 [==============================] - 63s 8ms/step - loss: 0.2431 - accuracy: 0.9276\n",
      "Epoch 14/20\n",
      "7879/7879 [==============================] - 63s 8ms/step - loss: 0.2292 - accuracy: 0.9322\n",
      "Epoch 15/20\n",
      "7879/7879 [==============================] - 63s 8ms/step - loss: 0.2174 - accuracy: 0.9362\n",
      "Epoch 16/20\n",
      "7879/7879 [==============================] - 63s 8ms/step - loss: 0.2070 - accuracy: 0.9391\n",
      "Epoch 17/20\n",
      "7879/7879 [==============================] - 63s 8ms/step - loss: 0.1973 - accuracy: 0.9422\n",
      "Epoch 18/20\n",
      "7879/7879 [==============================] - 63s 8ms/step - loss: 0.1886 - accuracy: 0.9450\n",
      "Epoch 19/20\n",
      "7879/7879 [==============================] - 62s 8ms/step - loss: 0.1803 - accuracy: 0.9474\n",
      "Epoch 20/20\n",
      "7879/7879 [==============================] - 63s 8ms/step - loss: 0.1733 - accuracy: 0.9496\n"
     ]
    }
   ],
   "source": [
    "n_epoch = 20\n",
    "opt = Adam(0.0001)\n",
    "model.compile(loss=\"categorical_crossentropy\", optimizer=opt, metrics=[\"accuracy\"])\n",
    "H = model.fit(trainX, trainY, epochs=n_epoch, batch_size=60)"
   ]
  },
  {
   "cell_type": "code",
   "execution_count": 15,
   "id": "2cb05a53",
   "metadata": {},
   "outputs": [
    {
     "data": {
      "text/plain": [
       "<matplotlib.legend.Legend at 0x1754c73d0>"
      ]
     },
     "execution_count": 15,
     "metadata": {},
     "output_type": "execute_result"
    },
    {
     "data": {
      "image/png": "[encoded data removed]",
      "text/plain": [
       "<Figure size 640x480 with 1 Axes>"
      ]
     },
     "metadata": {},
     "output_type": "display_data"
    }
   ],
   "source": [
    "# plot the training loss and accuracy\n",
    "plt.style.use(\"ggplot\")\n",
    "plt.figure()\n",
    "plt.plot(np.arange(0, n_epoch), H.history[\"loss\"], label=\"train_loss\")\n",
    "plt.plot(np.arange(0, n_epoch), H.history[\"accuracy\"], label=\"train_acc\")\n",
    "plt.title(\"Training Loss and Accuracy\")\n",
    "plt.xlabel(\"Epoch #\")\n",
    "plt.ylabel(\"Loss/Accuracy\")\n",
    "plt.legend()\n",
    "\n"
   ]
  },
  {
   "cell_type": "markdown",
   "id": "68460022",
   "metadata": {},
   "source": [
    "## test the PHROG unknown protein families"
   ]
  },
  {
   "cell_type": "code",
   "execution_count": 16,
   "id": "67ef7957",
   "metadata": {},
   "outputs": [],
   "source": [
    "phrog_unknown = phrog_metadata[~phrog_metadata['Category'].isna()]\n",
    "phrog_unknown = phrog_unknown[phrog_unknown['Category'].isin(['unknown function'])]"
   ]
  },
  {
   "cell_type": "code",
   "execution_count": 17,
   "id": "0d7ecb41",
   "metadata": {},
   "outputs": [],
   "source": [
    "ufv = {}\n",
    "for p in phrog_unknown['#phrog']:\n",
    "    try:\n",
    "        ufv[p] = pickle.load(open('{0}/protbert_bfd_embeddings_phrog/{1}.pkl' ''.format(phrog_data_dir,p), 'rb'))\n",
    "    except:\n",
    "        print('{0} embeddings not found' ''.format(p))\n",
    "        pass"
   ]
  },
  {
   "cell_type": "code",
   "execution_count": 18,
   "id": "e19e0bed",
   "metadata": {},
   "outputs": [
    {
     "name": "stderr",
     "output_type": "stream",
     "text": [
      "  0%|                                                 | 0/33792 [00:00<?, ?it/s]2023-01-10 18:02:11.858320: I tensorflow/core/grappler/optimizers/custom_graph_optimizer_registry.cc:114] Plugin optimizer for device_type GPU is enabled.\n",
      "100%|█████████████████████████████████████| 33792/33792 [15:01<00:00, 37.49it/s]\n"
     ]
    }
   ],
   "source": [
    "confidence = 0.5\n",
    "confident_unknown = []\n",
    "unconfident_unknown = []\n",
    "for f in tqdm(ufv.keys()):\n",
    "    pred_f = model.predict(ufv[f], verbose=0)\n",
    "    pred_f = np.mean(pred_f, axis=0)\n",
    "    if sum(pred_f > confidence) > 0:\n",
    "        confident_unknown.append(f)\n",
    "    else:\n",
    "        unconfident_unknown.append(f)"
   ]
  },
  {
   "cell_type": "code",
   "execution_count": 19,
   "id": "59f9c929",
   "metadata": {},
   "outputs": [
    {
     "data": {
      "text/plain": [
       "14280"
      ]
     },
     "execution_count": 19,
     "metadata": {},
     "output_type": "execute_result"
    }
   ],
   "source": [
    "len(unconfident_unknown)"
   ]
  },
  {
   "cell_type": "code",
   "execution_count": 20,
   "id": "e9319013",
   "metadata": {},
   "outputs": [],
   "source": [
    "ufv_vectors = [x for f in unconfident_unknown for x in ufv[f]]\n",
    "ufv_vectors = np.vstack(ufv_vectors)\n",
    "ufv_label = ['unknown'] * len(ufv_vectors)"
   ]
  },
  {
   "cell_type": "code",
   "execution_count": 21,
   "id": "db96c7ed",
   "metadata": {},
   "outputs": [
    {
     "data": {
      "text/plain": [
       "187757"
      ]
     },
     "execution_count": 21,
     "metadata": {},
     "output_type": "execute_result"
    }
   ],
   "source": [
    "len(ufv_vectors)"
   ]
  },
  {
   "cell_type": "markdown",
   "id": "8b0d9eb0",
   "metadata": {},
   "source": [
    "### train a new model with an 'unknown' class"
   ]
  },
  {
   "cell_type": "code",
   "execution_count": 22,
   "id": "bf4a9911",
   "metadata": {},
   "outputs": [],
   "source": [
    "vectors = np.concatenate((tr_vectors, ufv_vectors))\n",
    "label = np.concatenate((tr_label, ufv_label))"
   ]
  },
  {
   "cell_type": "code",
   "execution_count": 27,
   "id": "994bfca2",
   "metadata": {},
   "outputs": [],
   "source": [
    "trainX = vectors\n",
    "trainY = label"
   ]
  },
  {
   "cell_type": "code",
   "execution_count": 28,
   "id": "c99f0eab",
   "metadata": {},
   "outputs": [],
   "source": [
    "# label binarize\n",
    "# convert the labels from integers to vectors\n",
    "lb = LabelBinarizer()\n",
    "trainY = lb.fit_transform(trainY)"
   ]
  },
  {
   "cell_type": "code",
   "execution_count": 29,
   "id": "8dae354d",
   "metadata": {},
   "outputs": [],
   "source": [
    "# model architechture\n",
    "model2 = Sequential()\n",
    "model2.add(Dense(512, input_shape=(1024,), activation=\"relu\"))\n",
    "model2.add(Dropout(0.2))\n",
    "model2.add(Dense(256, input_shape=(512,), activation=\"relu\"))\n",
    "model2.add(Dropout(0.2))\n",
    "model2.add(Dense(128, input_shape=(256,), activation=\"relu\"))\n",
    "model2.add(Dense(10, activation=\"softmax\"))"
   ]
  },
  {
   "cell_type": "code",
   "execution_count": 31,
   "id": "ec58e9ae",
   "metadata": {},
   "outputs": [
    {
     "name": "stdout",
     "output_type": "stream",
     "text": [
      "Epoch 1/20\n"
     ]
    },
    {
     "name": "stderr",
     "output_type": "stream",
     "text": [
      "2023-01-10 18:22:55.030403: I tensorflow/core/grappler/optimizers/custom_graph_optimizer_registry.cc:114] Plugin optimizer for device_type GPU is enabled.\n"
     ]
    },
    {
     "name": "stdout",
     "output_type": "stream",
     "text": [
      "11008/11008 [==============================] - 84s 8ms/step - loss: 1.2323 - accuracy: 0.6160\n",
      "Epoch 2/20\n",
      "11008/11008 [==============================] - 88s 8ms/step - loss: 0.8818 - accuracy: 0.7318\n",
      "Epoch 3/20\n",
      "11008/11008 [==============================] - 80s 7ms/step - loss: 0.7706 - accuracy: 0.7694\n",
      "Epoch 4/20\n",
      "11008/11008 [==============================] - 81s 7ms/step - loss: 0.6969 - accuracy: 0.7923\n",
      "Epoch 5/20\n",
      "11008/11008 [==============================] - 80s 7ms/step - loss: 0.6408 - accuracy: 0.8099\n",
      "Epoch 6/20\n",
      "11008/11008 [==============================] - 80s 7ms/step - loss: 0.5955 - accuracy: 0.8235\n",
      "Epoch 7/20\n",
      "11008/11008 [==============================] - 80s 7ms/step - loss: 0.5583 - accuracy: 0.8350\n",
      "Epoch 8/20\n",
      "11008/11008 [==============================] - 80s 7ms/step - loss: 0.5266 - accuracy: 0.8445\n",
      "Epoch 9/20\n",
      "11008/11008 [==============================] - 80s 7ms/step - loss: 0.4991 - accuracy: 0.8531\n",
      "Epoch 10/20\n",
      "11008/11008 [==============================] - 80s 7ms/step - loss: 0.4754 - accuracy: 0.8607\n",
      "Epoch 11/20\n",
      "11008/11008 [==============================] - 80s 7ms/step - loss: 0.4541 - accuracy: 0.8674\n",
      "Epoch 12/20\n",
      "11008/11008 [==============================] - 80s 7ms/step - loss: 0.4349 - accuracy: 0.8735\n",
      "Epoch 13/20\n",
      "11008/11008 [==============================] - 80s 7ms/step - loss: 0.4179 - accuracy: 0.8785\n",
      "Epoch 14/20\n",
      "11008/11008 [==============================] - 80s 7ms/step - loss: 0.4023 - accuracy: 0.8832\n",
      "Epoch 15/20\n",
      "11008/11008 [==============================] - 80s 7ms/step - loss: 0.3874 - accuracy: 0.8879\n",
      "Epoch 16/20\n",
      "11008/11008 [==============================] - 80s 7ms/step - loss: 0.3745 - accuracy: 0.8920\n",
      "Epoch 17/20\n",
      "11008/11008 [==============================] - 79s 7ms/step - loss: 0.3618 - accuracy: 0.8961\n",
      "Epoch 18/20\n",
      "11008/11008 [==============================] - 79s 7ms/step - loss: 0.3510 - accuracy: 0.8998\n",
      "Epoch 19/20\n",
      "11008/11008 [==============================] - 79s 7ms/step - loss: 0.3405 - accuracy: 0.9031\n",
      "Epoch 20/20\n",
      "11008/11008 [==============================] - 79s 7ms/step - loss: 0.3305 - accuracy: 0.9065\n"
     ]
    }
   ],
   "source": [
    "n_epoch = 20\n",
    "opt = Adam(0.0001)\n",
    "model2.compile(loss=\"categorical_crossentropy\", optimizer=opt, metrics=[\"accuracy\"])\n",
    "H2 = model2.fit(trainX, trainY, epochs=n_epoch, batch_size=60)"
   ]
  },
  {
   "cell_type": "code",
   "execution_count": 33,
   "id": "31f25540",
   "metadata": {},
   "outputs": [
    {
     "data": {
      "text/plain": [
       "<matplotlib.legend.Legend at 0x3a7122df0>"
      ]
     },
     "execution_count": 33,
     "metadata": {},
     "output_type": "execute_result"
    },
    {
     "data": {
      "image/png": "[encoded data removed]",
      "text/plain": [
       "<Figure size 800x800 with 1 Axes>"
      ]
     },
     "metadata": {},
     "output_type": "display_data"
    }
   ],
   "source": [
    "# plot the training loss and accuracy\n",
    "plt.rcParams[\"figure.figsize\"]=8,8\n",
    "plt.style.use(\"ggplot\")\n",
    "plt.figure()\n",
    "plt.plot(np.arange(0, n_epoch), H2.history[\"loss\"], label=\"train_loss\")\n",
    "\n",
    "plt.plot(np.arange(0, n_epoch), H2.history[\"accuracy\"], label=\"train_acc\")\n",
    "\n",
    "plt.title(\"Training Loss and Accuracy\")\n",
    "plt.xlabel(\"Epoch #\")\n",
    "plt.ylabel(\"Loss/Accuracy\")\n",
    "plt.legend()\n",
    "\n"
   ]
  },
  {
   "cell_type": "markdown",
   "id": "0707ab83",
   "metadata": {},
   "source": [
    "## SAVE MODEL for external testing on protein sequence"
   ]
  },
  {
   "cell_type": "code",
   "execution_count": 48,
   "id": "a444ea86",
   "metadata": {},
   "outputs": [
    {
     "name": "stdout",
     "output_type": "stream",
     "text": [
      "INFO:tensorflow:Assets written to: models/model_phrog_family_train_ALL_familes_1/assets\n"
     ]
    }
   ],
   "source": [
    "os.mkdir('models')\n",
    "model2.save('models/model_phrog_family_train_ALL_familes_1')\n",
    "pickle.dump(lb, open('models/model_phrog_family_train_ALL_familes_1_lb.pkl', 'wb'))"
   ]
  }
 ],
 "metadata": {
  "kernelspec": {
   "display_name": "Python 3 (ipykernel)",
   "language": "python",
   "name": "python3"
  },
  "language_info": {
   "codemirror_mode": {
    "name": "ipython",
    "version": 3
   },
   "file_extension": ".py",
   "mimetype": "text/x-python",
   "name": "python",
   "nbconvert_exporter": "python",
   "pygments_lexer": "ipython3",
   "version": "3.9.13"
  }
 },
 "nbformat": 4,
 "nbformat_minor": 5
}
