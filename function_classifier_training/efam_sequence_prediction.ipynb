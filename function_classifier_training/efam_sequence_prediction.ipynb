{
 "cells": [
  {
   "cell_type": "markdown",
   "id": "e43f2d5a",
   "metadata": {},
   "source": [
    "# EFAM VPF prediction\n",
    "\n",
    "requires efam sequence:embedding dictionary (download- https://storage.googleapis.com/viral_protein_family_plm_embeddings/efam/identifier_to_vector_protbert_bdf_11012022_dict.pkl) in same directory as notebook\n"
   ]
  },
  {
   "cell_type": "code",
   "execution_count": null,
   "id": "e82c350b",
   "metadata": {},
   "outputs": [],
   "source": [
    "from tensorflow import keras\n",
    "import pickle\n",
    "from ast import literal_eval\n",
    "import pandas as pd\n",
    "import numpy as np\n",
    "import seaborn as sns\n",
    "import matplotlib.pyplot as plt\n",
    "import random\n",
    "from tqdm import tqdm"
   ]
  },
  {
   "cell_type": "code",
   "execution_count": null,
   "id": "790dbc06",
   "metadata": {},
   "outputs": [],
   "source": [
    "phrog_palette = {\n",
    "    'DNA, RNA and nucleotide metabolism': 'red',\n",
    "    'connector': 'blue',\n",
    "    'head and packaging': 'green',\n",
    "    'integration and excision': 'pink',\n",
    "    'lysis': 'gray',\n",
    "    'moron, auxiliary metabolic gene and host takeover': 'brown',\n",
    "    'other': 'purple',\n",
    "    'tail': 'darkorange',\n",
    "    'transcription regulation': 'cyan',\n",
    "    'unknown': 'black'\n",
    "}"
   ]
  },
  {
   "cell_type": "markdown",
   "id": "0200a138",
   "metadata": {},
   "source": [
    "## load efam super annotations file"
   ]
  },
  {
   "cell_type": "code",
   "execution_count": null,
   "id": "81dfed52",
   "metadata": {},
   "outputs": [],
   "source": [
    "efam_super_annote = pd.read_csv('../Final_Super_Condensed_Annotations-updated_efam.tsv', sep='\\t')\n",
    "efam_super_annote['Proteins'] = efam_super_annote['Proteins'].apply(literal_eval)"
   ]
  },
  {
   "cell_type": "markdown",
   "id": "1967af8e",
   "metadata": {},
   "source": [
    "## load trained model"
   ]
  },
  {
   "cell_type": "code",
   "execution_count": null,
   "id": "e7fb76a7",
   "metadata": {},
   "outputs": [],
   "source": [
    "model = keras.models.load_model('models/model_unknown_80_07092023/')"
   ]
  },
  {
   "cell_type": "code",
   "execution_count": null,
   "id": "d8c6865f",
   "metadata": {},
   "outputs": [],
   "source": [
    "classes = pickle.load(open('models/model_unknown_80_07092023_lb.pkl', 'rb'))"
   ]
  },
  {
   "cell_type": "markdown",
   "id": "36360c06",
   "metadata": {},
   "source": [
    "## load necessary dictionaries for efam identifier, cluser lookups"
   ]
  },
  {
   "cell_type": "code",
   "execution_count": null,
   "id": "60ed0728",
   "metadata": {},
   "outputs": [],
   "source": [
    "ci = {}\n",
    "for c in tqdm(efam_super_annote['Cluster']):\n",
    "    ps = efam_super_annote[efam_super_annote['Cluster'] == c]['Proteins'].item()\n",
    "    ci[c] = ps\n",
    "\n",
    "iv = pickle.load(open('identifier_to_vector_protbert_bdf_11012022_dict.pkl', 'rb'))"
   ]
  },
  {
   "cell_type": "markdown",
   "id": "fa68be9c",
   "metadata": {},
   "source": [
    "## make predictions"
   ]
  },
  {
   "cell_type": "code",
   "execution_count": null,
   "id": "77a0afe8",
   "metadata": {},
   "outputs": [],
   "source": [
    "cs = list(ci.keys())"
   ]
  },
  {
   "cell_type": "code",
   "execution_count": null,
   "id": "98d0a6ec",
   "metadata": {},
   "outputs": [],
   "source": [
    "cs_preds = []\n",
    "cs_prediction_per_class = []\n",
    "for c in tqdm(cs):\n",
    "    \n",
    "    vs = [iv[i] for i in ci[c] if i in iv.keys()]\n",
    "    if len(vs) < len(ci[c]):\n",
    "        print(c)\n",
    "        if len(vs) < 1:\n",
    "            continue\n",
    "    \n",
    "    vs = np.vstack(vs)\n",
    "    \n",
    "    pred = model.predict(vs, verbose=0)\n",
    "    \n",
    "\n",
    "    pred_mean = np.mean(pred, axis=0)\n",
    "    pred_sd = np.std(pred, axis=0)\n",
    "\n",
    "    pred_score = pred_mean[pred_mean.argmax()]\n",
    "    pred_sd = pred_sd[pred_mean.argmax()]\n",
    "    pred_c = classes.classes_[pred_mean.argmax()]\n",
    "    \n",
    "    cs_preds.append((c, pred_c, pred_score, pred_sd, len(vs)))\n",
    "    cs_prediction_per_class.append((\n",
    "        c, \n",
    "        pred_mean[0],\n",
    "        pred_mean[1],\n",
    "        pred_mean[2],\n",
    "        pred_mean[3],\n",
    "        pred_mean[4],\n",
    "        pred_mean[5],\n",
    "        pred_mean[6],\n",
    "        pred_mean[7],\n",
    "        pred_mean[8],\n",
    "        pred_mean[9]\n",
    "    ))"
   ]
  },
  {
   "cell_type": "code",
   "execution_count": null,
   "id": "8750aeb2",
   "metadata": {},
   "outputs": [],
   "source": [
    "cs_assignment = pd.DataFrame(cs_preds, columns=['cluster', 'label', 'average_prob', 'sd_prob', 'number_of_sequences'])\n",
    "cs_assignment.to_csv('efam_clusters_predictions.tsv', sep='\\t', index=False)"
   ]
  },
  {
   "cell_type": "code",
   "execution_count": null,
   "id": "35977210",
   "metadata": {},
   "outputs": [],
   "source": [
    "cols = ('cluster', \n",
    "        classes.classes_[0],\n",
    "        classes.classes_[1],\n",
    "        classes.classes_[2],\n",
    "        classes.classes_[3],\n",
    "        classes.classes_[4],\n",
    "        classes.classes_[5],\n",
    "        classes.classes_[6],\n",
    "        classes.classes_[7],\n",
    "        classes.classes_[8],\n",
    "        classes.classes_[9]\n",
    "       ) \n",
    "cs_assignment_1 = pd.DataFrame(cs_prediction_per_class, columns=cols)\n",
    "cs_assignment_1.to_csv('efam_clusters_all_probabilities.tsv', sep='\\t', index=False)"
   ]
  }
 ],
 "metadata": {
  "kernelspec": {
   "display_name": "Python 3 (ipykernel)",
   "language": "python",
   "name": "python3"
  },
  "language_info": {
   "codemirror_mode": {
    "name": "ipython",
    "version": 3
   },
   "file_extension": ".py",
   "mimetype": "text/x-python",
   "name": "python",
   "nbconvert_exporter": "python",
   "pygments_lexer": "ipython3",
   "version": "3.9.13"
  }
 },
 "nbformat": 4,
 "nbformat_minor": 5
}
